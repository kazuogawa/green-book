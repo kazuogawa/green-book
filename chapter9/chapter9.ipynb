{
 "cells": [
  {
   "cell_type": "code",
   "execution_count": null,
   "outputs": [],
   "source": [
    "import numpy as np\n",
    "import matplotlib.pyplot as plt\n",
    "plt.style.use('dark_background')"
   ],
   "metadata": {
    "collapsed": false,
    "pycharm": {
     "name": "#%%\n"
    }
   }
  },
  {
   "cell_type": "markdown",
   "metadata": {
    "collapsed": true,
    "pycharm": {
     "name": "#%% md\n"
    }
   },
   "source": [
    "9.1 例題: 種子数のポアソン回帰(個体差なし)\n",
    "\n",
    "個体iでは体サイズ$x_i$に依存して、種子数$y_i$の平均が増減する。\n",
    "個体数は20。個体ごとの平均種子数が体サイズ$x_i$にどう依存しているのかを調べるのが目的。\n",
    "\n",
    "9.2 GLMのベイズモデル化\n",
    "\n",
    "ベイズモデル化したGLMでも中核はポアソン回帰のGLM。\n",
    "個体iの種子数$y_i$のばらつきを平均$\\lambda_i$のポアソン分布$p(y_i|\\lambda_i)$に従うとする。\n",
    "線型予測子と対数リンク関数を使って平均を$\\lambda_i=exp(\\beta_1+\\beta_2 x_i)$と指定する。\n",
    "例題では個体iごとの個体差はないとしているので、ランダム効果の項はない。\n",
    "このモデルの尤度関数$L(\\beta_1, \\beta_2)$は下記となる。\n",
    "\n",
    "$L(\\beta_1, \\beta_2) = \\Pi_i p(y_i|\\lambda_i) = \\Pi_i p(y_i|\\beta_1, \\beta_2, x_i)$\n",
    "\n",
    "この例題でも説明変数$x_i$を定数のように扱う。Yが得られる確率は\n",
    "\n",
    "$p(Y|\\beta_1, \\beta_2) = L(\\beta_1, \\beta_2)$\n",
    "となる。\n",
    "\n",
    "ベイズモデルの事後分布は(尤度) * (事前分布)に比例するため\n",
    "\n",
    "$p(\\beta_1, \\beta_2|Y) \\propto p(Y|\\beta_1, \\beta_2) p(\\beta_1) p(\\beta_2)$\n",
    "\n",
    "左辺の$p(\\beta_1, \\beta_2|Y)$は事後分布。データYがあたえられたときの$\\{\\beta_1, \\beta_2\\}$の同時確率分布。\n",
    "右辺の$p(\\beta_1) ,p(\\beta_2)$はそれぞれ切片と傾きの事前分布であり、適切に指定すればベイズモデル化したGLMとなる\n",
    "\n",
    "9.3 無情報事前分布"
   ]
  }
 ],
 "metadata": {
  "kernelspec": {
   "display_name": "Python 3",
   "language": "python",
   "name": "python3"
  },
  "language_info": {
   "codemirror_mode": {
    "name": "ipython",
    "version": 2
   },
   "file_extension": ".py",
   "mimetype": "text/x-python",
   "name": "python",
   "nbconvert_exporter": "python",
   "pygments_lexer": "ipython2",
   "version": "2.7.6"
  }
 },
 "nbformat": 4,
 "nbformat_minor": 0
}