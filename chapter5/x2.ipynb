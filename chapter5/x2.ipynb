{
 "cells": [
  {
   "cell_type": "code",
   "execution_count": 2,
   "metadata": {
    "collapsed": true
   },
   "outputs": [],
   "source": [
    "# http://imaimamu.com/archives/2027\n",
    "\n",
    "from __future__ import division, print_function, absolute_import, unicode_literals\n",
    "import pandas as pd\n",
    "from pandas import DataFrame, Series\n",
    "import statsmodels.api as sm\n",
    "import statsmodels.formula.api as smf\n",
    "import numpy as np\n",
    "import matplotlib.pyplot as plt\n",
    "plt.style.use('dark_background')"
   ]
  },
  {
   "cell_type": "code",
   "execution_count": 3,
   "outputs": [
    {
     "data": {
      "text/plain": "     y      x  f\n0    6   8.31  C\n1    6   9.44  C\n2    6   9.50  C\n3   12   9.07  C\n4   10  10.16  C\n..  ..    ... ..\n95   8   9.15  T\n96   6   8.52  T\n97   8  10.24  T\n98   7  10.86  T\n99   9   9.97  T\n\n[100 rows x 3 columns]",
      "text/html": "<div>\n<style scoped>\n    .dataframe tbody tr th:only-of-type {\n        vertical-align: middle;\n    }\n\n    .dataframe tbody tr th {\n        vertical-align: top;\n    }\n\n    .dataframe thead th {\n        text-align: right;\n    }\n</style>\n<table border=\"1\" class=\"dataframe\">\n  <thead>\n    <tr style=\"text-align: right;\">\n      <th></th>\n      <th>y</th>\n      <th>x</th>\n      <th>f</th>\n    </tr>\n  </thead>\n  <tbody>\n    <tr>\n      <th>0</th>\n      <td>6</td>\n      <td>8.31</td>\n      <td>C</td>\n    </tr>\n    <tr>\n      <th>1</th>\n      <td>6</td>\n      <td>9.44</td>\n      <td>C</td>\n    </tr>\n    <tr>\n      <th>2</th>\n      <td>6</td>\n      <td>9.50</td>\n      <td>C</td>\n    </tr>\n    <tr>\n      <th>3</th>\n      <td>12</td>\n      <td>9.07</td>\n      <td>C</td>\n    </tr>\n    <tr>\n      <th>4</th>\n      <td>10</td>\n      <td>10.16</td>\n      <td>C</td>\n    </tr>\n    <tr>\n      <th>...</th>\n      <td>...</td>\n      <td>...</td>\n      <td>...</td>\n    </tr>\n    <tr>\n      <th>95</th>\n      <td>8</td>\n      <td>9.15</td>\n      <td>T</td>\n    </tr>\n    <tr>\n      <th>96</th>\n      <td>6</td>\n      <td>8.52</td>\n      <td>T</td>\n    </tr>\n    <tr>\n      <th>97</th>\n      <td>8</td>\n      <td>10.24</td>\n      <td>T</td>\n    </tr>\n    <tr>\n      <th>98</th>\n      <td>7</td>\n      <td>10.86</td>\n      <td>T</td>\n    </tr>\n    <tr>\n      <th>99</th>\n      <td>9</td>\n      <td>9.97</td>\n      <td>T</td>\n    </tr>\n  </tbody>\n</table>\n<p>100 rows × 3 columns</p>\n</div>"
     },
     "execution_count": 3,
     "metadata": {},
     "output_type": "execute_result"
    }
   ],
   "source": [
    "# y: 種子数\n",
    "# x: 体サイズ\n",
    "# f: 施肥\n",
    "d = pd.read_csv('../data/data3a.csv')\n",
    "d"
   ],
   "metadata": {
    "collapsed": false,
    "pycharm": {
     "name": "#%%\n"
    }
   }
  },
  {
   "cell_type": "code",
   "execution_count": 4,
   "outputs": [],
   "source": [
    "# 使い方。formulaは目的変数と説明変数の間の関係を式で表現できる\n",
    "# https://wcs.hatenablog.com/entry/2016/11/08/231703\n",
    "fit1 = smf.glm(formula='y ~ 1', data=d, family=sm.families.Poisson()).fit()\n",
    "fit2 = smf.glm(formula='y ~ x', data=d, family=sm.families.Poisson()).fit()"
   ],
   "metadata": {
    "collapsed": false,
    "pycharm": {
     "name": "#%%\n"
    }
   }
  },
  {
   "cell_type": "code",
   "execution_count": 10,
   "outputs": [
    {
     "name": "stdout",
     "output_type": "stream",
     "text": [
      "0.036\n",
      "3.728373284909129\n"
     ]
    }
   ],
   "source": [
    "chi = pd.Series(np.random.chisquare(1, 1000))\n",
    "# 4.5より大きいP(>|Chi|)の値\n",
    "print((chi >= 4.5).sum() / 1000)\n",
    "# 実際の95%のライン\n",
    "print(chi.quantile(0.95))"
   ],
   "metadata": {
    "collapsed": false,
    "pycharm": {
     "name": "#%%\n"
    }
   }
  },
  {
   "cell_type": "markdown",
   "source": [
    "x^2分布はサンプルサイズが大きい場合に有効な近似計算。\n",
    "個体数は100にすぎないので、近似的に得られたP値は正確でない可能性がある\n"
   ],
   "metadata": {
    "collapsed": false,
    "pycharm": {
     "name": "#%% md\n"
    }
   }
  }
 ],
 "metadata": {
  "kernelspec": {
   "display_name": "Python 3",
   "language": "python",
   "name": "python3"
  },
  "language_info": {
   "codemirror_mode": {
    "name": "ipython",
    "version": 2
   },
   "file_extension": ".py",
   "mimetype": "text/x-python",
   "name": "python",
   "nbconvert_exporter": "python",
   "pygments_lexer": "ipython2",
   "version": "2.7.6"
  }
 },
 "nbformat": 4,
 "nbformat_minor": 0
}