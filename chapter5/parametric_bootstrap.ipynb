{
 "cells": [
  {
   "cell_type": "code",
   "execution_count": 16,
   "metadata": {
    "collapsed": true
   },
   "outputs": [],
   "source": [
    "# http://imaimamu.com/archives/2027\n",
    "\n",
    "from __future__ import division, print_function, absolute_import, unicode_literals\n",
    "import pandas as pd\n",
    "from pandas import DataFrame, Series\n",
    "import statsmodels.api as sm\n",
    "import statsmodels.formula.api as smf\n",
    "import numpy as np\n",
    "import matplotlib.pyplot as plt\n",
    "plt.style.use('dark_background')"
   ]
  },
  {
   "cell_type": "code",
   "execution_count": 2,
   "outputs": [
    {
     "data": {
      "text/plain": "     y      x  f\n0    6   8.31  C\n1    6   9.44  C\n2    6   9.50  C\n3   12   9.07  C\n4   10  10.16  C\n..  ..    ... ..\n95   8   9.15  T\n96   6   8.52  T\n97   8  10.24  T\n98   7  10.86  T\n99   9   9.97  T\n\n[100 rows x 3 columns]",
      "text/html": "<div>\n<style scoped>\n    .dataframe tbody tr th:only-of-type {\n        vertical-align: middle;\n    }\n\n    .dataframe tbody tr th {\n        vertical-align: top;\n    }\n\n    .dataframe thead th {\n        text-align: right;\n    }\n</style>\n<table border=\"1\" class=\"dataframe\">\n  <thead>\n    <tr style=\"text-align: right;\">\n      <th></th>\n      <th>y</th>\n      <th>x</th>\n      <th>f</th>\n    </tr>\n  </thead>\n  <tbody>\n    <tr>\n      <th>0</th>\n      <td>6</td>\n      <td>8.31</td>\n      <td>C</td>\n    </tr>\n    <tr>\n      <th>1</th>\n      <td>6</td>\n      <td>9.44</td>\n      <td>C</td>\n    </tr>\n    <tr>\n      <th>2</th>\n      <td>6</td>\n      <td>9.50</td>\n      <td>C</td>\n    </tr>\n    <tr>\n      <th>3</th>\n      <td>12</td>\n      <td>9.07</td>\n      <td>C</td>\n    </tr>\n    <tr>\n      <th>4</th>\n      <td>10</td>\n      <td>10.16</td>\n      <td>C</td>\n    </tr>\n    <tr>\n      <th>...</th>\n      <td>...</td>\n      <td>...</td>\n      <td>...</td>\n    </tr>\n    <tr>\n      <th>95</th>\n      <td>8</td>\n      <td>9.15</td>\n      <td>T</td>\n    </tr>\n    <tr>\n      <th>96</th>\n      <td>6</td>\n      <td>8.52</td>\n      <td>T</td>\n    </tr>\n    <tr>\n      <th>97</th>\n      <td>8</td>\n      <td>10.24</td>\n      <td>T</td>\n    </tr>\n    <tr>\n      <th>98</th>\n      <td>7</td>\n      <td>10.86</td>\n      <td>T</td>\n    </tr>\n    <tr>\n      <th>99</th>\n      <td>9</td>\n      <td>9.97</td>\n      <td>T</td>\n    </tr>\n  </tbody>\n</table>\n<p>100 rows × 3 columns</p>\n</div>"
     },
     "execution_count": 2,
     "metadata": {},
     "output_type": "execute_result"
    }
   ],
   "source": [
    "# y: 種子数\n",
    "# x: 体サイズ\n",
    "# f: 施肥\n",
    "d = pd.read_csv('../data/data3a.csv')\n",
    "d"
   ],
   "metadata": {
    "collapsed": false,
    "pycharm": {
     "name": "#%%\n"
    }
   }
  },
  {
   "cell_type": "code",
   "execution_count": 3,
   "outputs": [],
   "source": [
    "# 使い方。formulaは目的変数と説明変数の間の関係を式で表現できる\n",
    "# https://wcs.hatenablog.com/entry/2016/11/08/231703\n",
    "fit1 = smf.glm(formula='y ~ 1', data=d, family=sm.families.Poisson()).fit()\n",
    "fit2 = smf.glm(formula='y ~ x', data=d, family=sm.families.Poisson()).fit()"
   ],
   "metadata": {
    "collapsed": false,
    "pycharm": {
     "name": "#%%\n"
    }
   }
  },
  {
   "cell_type": "code",
   "execution_count": 4,
   "outputs": [
    {
     "name": "stdout",
     "output_type": "stream",
     "text": [
      "84.9929964907296\n",
      "4.51394107885173\n"
     ]
    }
   ],
   "source": [
    "# 残渣逸脱度\n",
    "print(fit2.deviance)\n",
    "\n",
    "# 逸脱度の差(ΔD_1,2)\n",
    "print(fit1.deviance - fit2.deviance)"
   ],
   "metadata": {
    "collapsed": false,
    "pycharm": {
     "name": "#%%\n"
    }
   }
  },
  {
   "cell_type": "markdown",
   "source": [
    "統計的な検定では帰無仮説が真のモデルであるとみなす\n",
    "帰無仮説である一定モデルで推定された平均種子数は7.85個だったので、\n",
    "真のモデルから生成されるでーたは「平均7.85の100個のポアソン乱数」"
   ],
   "metadata": {
    "collapsed": false,
    "pycharm": {
     "name": "#%% md\n"
    }
   }
  },
  {
   "cell_type": "code",
   "execution_count": 5,
   "outputs": [
    {
     "data": {
      "text/plain": "     y      x  f  y_rnd\n0    6   8.31  C      7\n1    6   9.44  C     12\n2    6   9.50  C      5\n3   12   9.07  C      8\n4   10  10.16  C      9\n..  ..    ... ..    ...\n95   8   9.15  T      8\n96   6   8.52  T      9\n97   8  10.24  T      5\n98   7  10.86  T      3\n99   9   9.97  T     12\n\n[100 rows x 4 columns]",
      "text/html": "<div>\n<style scoped>\n    .dataframe tbody tr th:only-of-type {\n        vertical-align: middle;\n    }\n\n    .dataframe tbody tr th {\n        vertical-align: top;\n    }\n\n    .dataframe thead th {\n        text-align: right;\n    }\n</style>\n<table border=\"1\" class=\"dataframe\">\n  <thead>\n    <tr style=\"text-align: right;\">\n      <th></th>\n      <th>y</th>\n      <th>x</th>\n      <th>f</th>\n      <th>y_rnd</th>\n    </tr>\n  </thead>\n  <tbody>\n    <tr>\n      <th>0</th>\n      <td>6</td>\n      <td>8.31</td>\n      <td>C</td>\n      <td>7</td>\n    </tr>\n    <tr>\n      <th>1</th>\n      <td>6</td>\n      <td>9.44</td>\n      <td>C</td>\n      <td>12</td>\n    </tr>\n    <tr>\n      <th>2</th>\n      <td>6</td>\n      <td>9.50</td>\n      <td>C</td>\n      <td>5</td>\n    </tr>\n    <tr>\n      <th>3</th>\n      <td>12</td>\n      <td>9.07</td>\n      <td>C</td>\n      <td>8</td>\n    </tr>\n    <tr>\n      <th>4</th>\n      <td>10</td>\n      <td>10.16</td>\n      <td>C</td>\n      <td>9</td>\n    </tr>\n    <tr>\n      <th>...</th>\n      <td>...</td>\n      <td>...</td>\n      <td>...</td>\n      <td>...</td>\n    </tr>\n    <tr>\n      <th>95</th>\n      <td>8</td>\n      <td>9.15</td>\n      <td>T</td>\n      <td>8</td>\n    </tr>\n    <tr>\n      <th>96</th>\n      <td>6</td>\n      <td>8.52</td>\n      <td>T</td>\n      <td>9</td>\n    </tr>\n    <tr>\n      <th>97</th>\n      <td>8</td>\n      <td>10.24</td>\n      <td>T</td>\n      <td>5</td>\n    </tr>\n    <tr>\n      <th>98</th>\n      <td>7</td>\n      <td>10.86</td>\n      <td>T</td>\n      <td>3</td>\n    </tr>\n    <tr>\n      <th>99</th>\n      <td>9</td>\n      <td>9.97</td>\n      <td>T</td>\n      <td>12</td>\n    </tr>\n  </tbody>\n</table>\n<p>100 rows × 4 columns</p>\n</div>"
     },
     "execution_count": 5,
     "metadata": {},
     "output_type": "execute_result"
    }
   ],
   "source": [
    "# (1)\n",
    "d2 = d\n",
    "d2['y_rnd'] = np.random.poisson(d.y.mean(), 100)\n",
    "d2"
   ],
   "metadata": {
    "collapsed": false,
    "pycharm": {
     "name": "#%%\n"
    }
   }
  },
  {
   "cell_type": "code",
   "execution_count": 6,
   "outputs": [
    {
     "name": "stdout",
     "output_type": "stream",
     "text": [
      "1.968532121150659\n"
     ]
    }
   ],
   "source": [
    "# 体サイズxと関係ない平均値一定のポアソン乱数であるデータに対しても、逸脱度の差が1.92となる\n",
    "# (2)\n",
    "fit2_1 = smf.glm(formula='y_rnd ~ 1', data=d2, family=sm.families.Poisson()).fit()\n",
    "fit2_2 = smf.glm(formula='y_rnd ~ x', data=d2, family=sm.families.Poisson()).fit()\n",
    "# (3)\n",
    "print(fit2_1.deviance - fit2_2.deviance)"
   ],
   "metadata": {
    "collapsed": false,
    "pycharm": {
     "name": "#%%\n"
    }
   }
  },
  {
   "cell_type": "markdown",
   "source": [
    "「真のモデル」である一定モデルよりも無意味な説明変数を持つxモデルの方が当てはまりが良くなる\n",
    "逸脱度(fitX.deviance)は大きいと、当てはまりが悪いという表現。\n",
    "fit2_1.deviance - fit2_2.devianceが正の数だとfit2_1の方が逸脱度が大きい=一定モデルの方が逸脱度が大きい\n",
    "よって、「一定モデルよりも無意味な説明変数を持つxモデルの方が当てはまりが良くなる」\n",
    "(1)-(3)までを1000回繰り返すと「検定統計量の分布」(逸脱度の差ΔD1,2)の分布を予測できる"
   ],
   "metadata": {
    "collapsed": false
   }
  },
  {
   "cell_type": "code",
   "execution_count": 7,
   "outputs": [
    {
     "data": {
      "text/plain": "count    1.000000e+03\nmean     1.016693e+00\nstd      1.432676e+00\nmin      4.607504e-08\n25%      1.091354e-01\n50%      4.948534e-01\n75%      1.319796e+00\nmax      1.128188e+01\ndtype: float64"
     },
     "execution_count": 7,
     "metadata": {},
     "output_type": "execute_result"
    }
   ],
   "source": [
    "def get_delta_d(data: DataFrame) -> float:\n",
    "    data['y_rnd'] = np.random.poisson(d.y.mean(), 100)\n",
    "    fit1 = smf.glm(formula='y_rnd ~ 1', data=data, family=sm.families.Poisson()).fit()\n",
    "    fit2 = smf.glm(formula='y_rnd ~ x', data=data, family=sm.families.Poisson()).fit()\n",
    "    return fit1.deviance - fit2.deviance\n",
    "\n",
    "def calculate_parametric_bootstrap(data: DataFrame, cnt: int) -> Series:\n",
    "    return pd.Series([get_delta_d(data) for i in range(cnt)])\n",
    "\n",
    "dd12 = calculate_parametric_bootstrap(d, 1000)\n",
    "dd12.describe()"
   ],
   "metadata": {
    "collapsed": false,
    "pycharm": {
     "name": "#%%\n"
    }
   }
  },
  {
   "cell_type": "code",
   "execution_count": 17,
   "outputs": [
    {
     "data": {
      "text/plain": "<function matplotlib.pyplot.show(close=None, block=None)>"
     },
     "execution_count": 17,
     "metadata": {},
     "output_type": "execute_result"
    },
    {
     "data": {
      "text/plain": "<Figure size 432x288 with 1 Axes>",
      "image/png": "[encoded data removed]"
     },
     "metadata": {},
     "output_type": "display_data"
    }
   ],
   "source": [
    "fig = plt.figure()\n",
    "ax = fig.add_subplot(111)\n",
    "ax.hist(dd12, 100)\n",
    "ax.set_xlabel(r'$\\Delta D_{1,2}$')\n",
    "plt.axvline(x=4.5, linestyle='--')\n",
    "plt.show"
   ],
   "metadata": {
    "collapsed": false,
    "pycharm": {
     "name": "#%%\n"
    }
   }
  },
  {
   "cell_type": "code",
   "execution_count": 18,
   "outputs": [
    {
     "name": "stdout",
     "output_type": "stream",
     "text": [
      "38\n"
     ]
    }
   ],
   "source": [
    "# 1000個のうち幾つが4.5以上あるのか\n",
    "print((dd12 >= 4.5).sum())\n"
   ],
   "metadata": {
    "collapsed": false,
    "pycharm": {
     "name": "#%%\n"
    }
   }
  },
  {
   "cell_type": "code",
   "execution_count": 19,
   "outputs": [
    {
     "name": "stdout",
     "output_type": "stream",
     "text": [
      "3.9993589856720386\n"
     ]
    }
   ],
   "source": [
    "# P=0.05の位置にあるΔD1,2。出力される値まではよくある差としてみなされる\n",
    "print(dd12.quantile(0.95))"
   ],
   "metadata": {
    "collapsed": false,
    "pycharm": {
     "name": "#%%\n"
    }
   }
  },
  {
   "cell_type": "markdown",
   "source": [
    "結論として「逸脱度の差4.5のPの値は0.038だったので、これは有意水準0.05より小さい」ので有意差がある。\n",
    "\n",
    "「帰無仮説(一定モデル)は棄却され、xモデルが残るのでこれを採択」\n",
    "\n"
   ],
   "metadata": {
    "collapsed": false,
    "pycharm": {
     "name": "#%% md\n"
    }
   }
  }
 ],
 "metadata": {
  "kernelspec": {
   "display_name": "Python 3",
   "language": "python",
   "name": "python3"
  },
  "language_info": {
   "codemirror_mode": {
    "name": "ipython",
    "version": 2
   },
   "file_extension": ".py",
   "mimetype": "text/x-python",
   "name": "python",
   "nbconvert_exporter": "python",
   "pygments_lexer": "ipython2",
   "version": "2.7.6"
  }
 },
 "nbformat": 4,
 "nbformat_minor": 0
}