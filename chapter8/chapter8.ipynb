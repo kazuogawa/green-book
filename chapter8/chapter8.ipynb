{
 "cells": [
  {
   "cell_type": "markdown",
   "metadata": {
    "collapsed": true,
    "pycharm": {
     "name": "#%% md\n"
    }
   },
   "source": [
    "GLMMでは$r_i$は1つだったが、K個の場合はK回の多重積分が必要になる。\n",
    "上記に効くのがマルコフ連鎖モンテカルロ法(MCMC)。\n",
    "\n",
    "あるデータに対してMCMCアルゴリズムを適用すると、推定結果は確率分布からのランダムサンプルとして得られる。\n",
    "これをMCMCサンプリング、得られた結果をMCMCサンプルと呼ぶことにする。\n",
    "MCMCアルゴリズムは他へん量の確率分布からの巧妙な乱数発生方法。\n",
    "統計モデルを観測データに当てはめるとMCMCサンプルが得られる。\n",
    "\n",
    "MCMCサンプリングで得られた結果と統計モデルを対応づける方法としてベイズ統計モデルがある。\n",
    "\n",
    "## 8.1 例題: 種子の生存確率(個体差なし)\n",
    "\n",
    "種子の生死の問題。各植物個体8この種子の生死を調査。\n",
    "\n",
    "$\\{y_{1}, y_{2}, ..., y_{20}\\} = \\{4,3,4,5,5,2,3,1,4,0,1,5,5,6,5,4,4,5,3,4\\}$\n",
    "\n",
    "ヒストグラムにすると下記"
   ]
  },
  {
   "cell_type": "code",
   "execution_count": 7,
   "outputs": [
    {
     "name": "stdout",
     "output_type": "stream",
     "text": [
      "size : 20\n",
      "average : 3.65\n",
      "variance : 2.4275\n"
     ]
    },
    {
     "data": {
      "text/plain": "(array([1., 2., 1., 3., 6., 6., 1.]),\n array([0.        , 0.85714286, 1.71428571, 2.57142857, 3.42857143,\n        4.28571429, 5.14285714, 6.        ]),\n <BarContainer object of 7 artists>)"
     },
     "execution_count": 7,
     "metadata": {},
     "output_type": "execute_result"
    },
    {
     "data": {
      "text/plain": "<Figure size 432x288 with 1 Axes>",
      "image/png": "[encoded data removed]"
     },
     "metadata": {},
     "output_type": "display_data"
    }
   ],
   "source": [
    "# ダークモードの場合、設定しないとメモリが見えなくなる\n",
    "import numpy as np\n",
    "import matplotlib.pyplot as plt\n",
    "plt.style.use('dark_background')\n",
    "#y_list = np.array([4,3,4,5,5,2,3,1,4,0,1,5,5,6,5,4,4,5,3,4])\n",
    "y_list = [4,3,4,5,5,2,3,1,4,0,1,5,5,6,5,4,4,5,3,4]\n",
    "size = len(y_list)\n",
    "print(\"size :\", size)\n",
    "ave = sum(y_list)/len(y_list)\n",
    "print(\"average :\", ave)\n",
    "var = np.var(y_list)\n",
    "print(\"variance :\", var)\n",
    "plt.hist(y_list, bins=len(set(y_list)))"
   ],
   "metadata": {
    "collapsed": false,
    "pycharm": {
     "name": "#%%\n"
    }
   }
  },
  {
   "cell_type": "markdown",
   "source": [
    "ヒストグラムを見ると過分散ではないように見える。\n",
    "そのため生存種子数$y_i$が二項分布に従うと仮定する。均質な20個体に共通する種子生存確率をqとするとある個体iの種子数が$y_i$である確率は下記。\n",
    "\n",
    "$p(y_i| q) = \\begin{pmatrix} 8 \\\\ y_i \\end{pmatrix} q_i^{y_i}(1-q_i)^{8-y_i}$\n",
    "\n",
    "尤度$L(q)$は20個体分のデータが得られる確率の積なので下記。\n",
    "\n",
    "$L(q) = p(Y|q) = \\Pi_ip(y_i|q)$\n",
    "\n",
    "対数尤度は下記\n",
    "\n",
    "$log L(q) = \\sum_i\\{y_i log q + (8-y_i) log(1-q)\\} + (定数)$\n",
    "\n",
    "尤度はq=0.46あたりで対数尤度が最大になるらしい。求め方わからん。\n",
    "\n",
    "この対数尤度logL(q)を最大化するようなqが最大推定値$\\hat{q}$で、対数尤度の傾きがゼロになる。\n",
    "つまりdlogL(q)/dq = 0となる$\\hat{q}$を求めると、Yのもとでの最尤推定値は以下になる。\n",
    "\n",
    "$\\hat{q} = \\frac{合計生存種子数}{合計調査種子数} = \\frac{73}{8 * 20} = 0.456$\n",
    "\n",
    "このデータから生存確率は0.46くらい。\n",
    "\n",
    "## 8.2 フラフラ試行錯誤による最尤推定\n",
    "\n",
    "最尤推定陵$\\hat{q}$が解析的に求められない倍位はどうすれば良いか。\n",
    "計算機による繰り返し試行錯誤でqを少しずつ変化させることで対数尤度が高くなる$\\hat{q}$を探し出す。\n",
    "下記にMCMCで効率悪い精度も良くない試行錯誤による最尤推定方法を紹介する。\n",
    "\n",
    "1. 生存確率qを離散化(連続値のqを飛び飛びの値の集まりに変換すること)\n",
    "\n",
    "q=0.01から0.99までの値に変更\n",
    "\n",
    "2. 何かqの初期値を選び、その対数尤度を評価する。\n",
    "\n",
    "試行錯誤による最尤推定方ではいい加減に決めたqを振り出しにして、qを増減しながら対数尤度が高くなるqを逐次的に探していく。\n",
    "\n",
    "最終的にq=0.46のあたりに着く\n",
    "\n",
    "8.3 MCMCのアルゴリズムの一つ: メトロポリス法\n",
    "\n",
    "メトロポリス法は上記のフラフラ試行錯誤による最尤推定の手順を少し修正したもの。\n",
    "\n",
    "1. パラメータqの初期値を選ぶ\n",
    "\n",
    "2. qを増やすor減らすかをランダムに決める。それを$q^{new}$とする\n",
    "\n",
    "3. $q^{new}$において尤度が大きくなる(当てはまりが良くなる)ならqの値を$q^{new}$に変更\n",
    "\n",
    "4. $q^{new}$で尤度が小さくなる場合であっても確率rでqの値を$q^{new}$に変更する\n",
    "\n",
    "rは下記。\n",
    "\n",
    "$r=\\frac{L(q)^{new}}{L(q)}$\n",
    "\n",
    "(ε-greedyみたい)\n",
    "\n",
    "例:\n",
    "\n",
    "$q=0.30, q^{new} = 0.29$の場合、対数尤度はそれぞれ$logL(q) = -46.38, logL(q^{new}) = -47.62$なので、移動する確率は\n",
    "\n",
    "$r=exp(-47.62 + 46.38) = 0.29$になる。(平然とlogの計算をしていくー笑)\n",
    "\n",
    "MCMCアルゴリズムでは一つのステップの中で前の状態qに基づいて新しい状態$q^{new}$を作り出しているのでマルコフ連鎖になっている。\n",
    "(現在の状態にしか依存していないことでOK?)\n",
    "\n",
    "https://ja.wikipedia.org/wiki/%E3%83%9E%E3%83%AB%E3%82%B3%E3%83%95%E9%80%A3%E9%8E%96\n",
    "\n",
    "一般に乱数を利用した計算アルゴリズムはモンテカルロ法と呼ばれている。\n",
    "2. と4. で乱数を使っているので、メトロポリス法はマルコフ連鎖なモンテカルロ法の一つであることがわかる。"
   ],
   "metadata": {
    "collapsed": false,
    "pycharm": {
     "name": "#%% md\n"
    }
   }
  },
  {
   "cell_type": "code",
   "execution_count": 31,
   "outputs": [],
   "source": [
    "import math\n",
    "from scipy.special import comb\n",
    "import pandas as pd\n",
    "\n",
    "# 対数尤度\n",
    "def loglikelihood(data, q):\n",
    "    ll = 0\n",
    "    for i, r in data.iterrows():\n",
    "        ll = ll + math.log(comb(r['N'], r['y'])) + r['y']*math.log(q) + (r['N'] - r['y'])*math.log(1 - q)\n",
    "\n",
    "    return ll\n",
    "\n",
    "# MCMC(メトロポリス法)\n",
    "def mcmc_metropolis(data, q_start, number_of_samples):\n",
    "    q_current = q_start\n",
    "    ll_current = loglikelihood(data, q_current)\n",
    "    q = [q_current]\n",
    "    ll = [ll_current]\n",
    "    for r1, r2 in zip(np.random.random(number_of_samples), np.random.random(number_of_samples)):\n",
    "        q_new = q_current + 0.01 if r1 > 0.5 else q_current - 0.01\n",
    "        if q_new <= 0.01:\n",
    "            q_new = 0.02\n",
    "        elif q_new >= 0.99:\n",
    "            q_new = 0.98\n",
    "        ll_new = loglikelihood(data, q_new)\n",
    "        # 対数尤度が悪くなる場合でも、尤度比の確率でqを更新\n",
    "        if ll_current < ll_new or (math.exp(ll_new - ll_current)  > r2):\n",
    "            q_current = q_new\n",
    "            ll_current = ll_new\n",
    "        q.append(q_current)\n",
    "        ll.append(ll_current)\n",
    "    return q, ll\n",
    "\n",
    "n_list = [8] * len(y_list)\n",
    "zipped = zip(n_list, y_list)\n",
    "df = pd.DataFrame([list(a) for a in zipped], columns=[\"N\", \"y\"])\n",
    "\n",
    "# サンプル数100のMCMCでqと対数尤度の遷移を計算\n",
    "q_100, ll_100 = mcmc_metropolis(df, 0.3, 100)"
   ],
   "metadata": {
    "collapsed": false,
    "pycharm": {
     "name": "#%%\n"
    }
   }
  },
  {
   "cell_type": "markdown",
   "source": [
    "## 8.3.1 メトロポリス法でサンプリングしてみる\n"
   ],
   "metadata": {
    "collapsed": false
   }
  }
 ],
 "metadata": {
  "kernelspec": {
   "display_name": "Python 3",
   "language": "python",
   "name": "python3"
  },
  "language_info": {
   "codemirror_mode": {
    "name": "ipython",
    "version": 2
   },
   "file_extension": ".py",
   "mimetype": "text/x-python",
   "name": "python",
   "nbconvert_exporter": "python",
   "pygments_lexer": "ipython2",
   "version": "2.7.6"
  }
 },
 "nbformat": 4,
 "nbformat_minor": 0
}