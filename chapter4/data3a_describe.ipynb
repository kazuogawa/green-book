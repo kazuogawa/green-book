{
 "cells": [
  {
   "cell_type": "code",
   "execution_count": 1,
   "metadata": {
    "collapsed": true
   },
   "outputs": [],
   "source": [
    "# pycharmでjupyter notebookを使う方法\n",
    "# https://blog.jetbrains.com/ja/2019/11/30/2396/\n",
    "\n",
    "import pandas as pd\n",
    "import matplotlib.pyplot as plt\n",
    "# ダークモードの場合、設定しないとメモリが見えなくなる\n",
    "plt.style.use('dark_background')\n",
    "\n",
    "import seaborn as sns\n",
    "import numpy as np\n",
    "import statsmodels.formula.api as smf\n",
    "from scipy.stats import poisson"
   ]
  },
  {
   "cell_type": "code",
   "execution_count": 2,
   "outputs": [
    {
     "data": {
      "text/plain": "                y           x\ncount  100.000000  100.000000\nmean     7.830000   10.089100\nstd      2.624881    1.008049\nmin      2.000000    7.190000\n25%      6.000000    9.427500\n50%      8.000000   10.155000\n75%     10.000000   10.685000\nmax     15.000000   12.400000",
      "text/html": "<div>\n<style scoped>\n    .dataframe tbody tr th:only-of-type {\n        vertical-align: middle;\n    }\n\n    .dataframe tbody tr th {\n        vertical-align: top;\n    }\n\n    .dataframe thead th {\n        text-align: right;\n    }\n</style>\n<table border=\"1\" class=\"dataframe\">\n  <thead>\n    <tr style=\"text-align: right;\">\n      <th></th>\n      <th>y</th>\n      <th>x</th>\n    </tr>\n  </thead>\n  <tbody>\n    <tr>\n      <th>count</th>\n      <td>100.000000</td>\n      <td>100.000000</td>\n    </tr>\n    <tr>\n      <th>mean</th>\n      <td>7.830000</td>\n      <td>10.089100</td>\n    </tr>\n    <tr>\n      <th>std</th>\n      <td>2.624881</td>\n      <td>1.008049</td>\n    </tr>\n    <tr>\n      <th>min</th>\n      <td>2.000000</td>\n      <td>7.190000</td>\n    </tr>\n    <tr>\n      <th>25%</th>\n      <td>6.000000</td>\n      <td>9.427500</td>\n    </tr>\n    <tr>\n      <th>50%</th>\n      <td>8.000000</td>\n      <td>10.155000</td>\n    </tr>\n    <tr>\n      <th>75%</th>\n      <td>10.000000</td>\n      <td>10.685000</td>\n    </tr>\n    <tr>\n      <th>max</th>\n      <td>15.000000</td>\n      <td>12.400000</td>\n    </tr>\n  </tbody>\n</table>\n</div>"
     },
     "execution_count": 2,
     "metadata": {},
     "output_type": "execute_result"
    }
   ],
   "source": [
    "df = pd.read_csv('../data/data3a.csv')\n",
    "df.describe()"
   ],
   "metadata": {
    "collapsed": false,
    "pycharm": {
     "name": "#%%\n"
    }
   }
  },
  {
   "cell_type": "code",
   "execution_count": 3,
   "outputs": [
    {
     "data": {
      "text/plain": "-192.8897525244958"
     },
     "execution_count": 3,
     "metadata": {},
     "output_type": "execute_result"
    }
   ],
   "source": [
    "#https://ohke.hateblo.jp/entry/2018/01/31/230000\n",
    "\n",
    "#フルモデルの最大対数尤度\n",
    "full_ll = sum([poisson.logpmf(y_i, y_i) for y_i in df['y']])\n",
    "full_ll"
   ],
   "metadata": {
    "collapsed": false,
    "pycharm": {
     "name": "#%%\n"
    }
   }
  },
  {
   "cell_type": "markdown",
   "source": [
    "最大対数尤度は-192.89のため、逸脱度は-2をかけて385.78となる"
   ],
   "metadata": {
    "collapsed": false
   }
  },
  {
   "cell_type": "code",
   "execution_count": 8,
   "outputs": [
    {
     "name": "stdout",
     "output_type": "stream",
     "text": [
      "Optimization terminated successfully.\n",
      "         Current function value: 2.329301\n",
      "         Iterations 1\n"
     ]
    },
    {
     "data": {
      "text/plain": "<class 'statsmodels.iolib.summary.Summary'>\n\"\"\"\n                          Poisson Regression Results                          \n==============================================================================\nDep. Variable:                      y   No. Observations:                   50\nModel:                        Poisson   Df Residuals:                       49\nMethod:                           MLE   Df Model:                            0\nDate:                Sun, 11 Oct 2020   Pseudo R-squ.:                   0.000\nTime:                        00:16:15   Log-Likelihood:                -116.47\nconverged:                       True   LL-Null:                       -116.47\nCovariance Type:            nonrobust   LLR p-value:                       nan\n==============================================================================\n                 coef    std err          z      P>|z|      [0.025      0.975]\n------------------------------------------------------------------------------\nIntercept      2.0069      0.052     38.707      0.000       1.905       2.108\n==============================================================================\n\"\"\"",
      "text/html": "<table class=\"simpletable\">\n<caption>Poisson Regression Results</caption>\n<tr>\n  <th>Dep. Variable:</th>           <td>y</td>        <th>  No. Observations:  </th>  <td>    50</td> \n</tr>\n<tr>\n  <th>Model:</th>                <td>Poisson</td>     <th>  Df Residuals:      </th>  <td>    49</td> \n</tr>\n<tr>\n  <th>Method:</th>                 <td>MLE</td>       <th>  Df Model:          </th>  <td>     0</td> \n</tr>\n<tr>\n  <th>Date:</th>            <td>Sun, 11 Oct 2020</td> <th>  Pseudo R-squ.:     </th>  <td> 0.000</td> \n</tr>\n<tr>\n  <th>Time:</th>                <td>00:16:15</td>     <th>  Log-Likelihood:    </th> <td> -116.47</td>\n</tr>\n<tr>\n  <th>converged:</th>             <td>True</td>       <th>  LL-Null:           </th> <td> -116.47</td>\n</tr>\n<tr>\n  <th>Covariance Type:</th>     <td>nonrobust</td>    <th>  LLR p-value:       </th>  <td>   nan</td> \n</tr>\n</table>\n<table class=\"simpletable\">\n<tr>\n      <td></td>         <th>coef</th>     <th>std err</th>      <th>z</th>      <th>P>|z|</th>  <th>[0.025</th>    <th>0.975]</th>  \n</tr>\n<tr>\n  <th>Intercept</th> <td>    2.0069</td> <td>    0.052</td> <td>   38.707</td> <td> 0.000</td> <td>    1.905</td> <td>    2.108</td>\n</tr>\n</table>"
     },
     "execution_count": 8,
     "metadata": {},
     "output_type": "execute_result"
    }
   ],
   "source": [
    "# 図4.5にある、一定データの最尤推定を求める\n",
    "\n",
    "#https://ohke.hateblo.jp/entry/2018/01/31/230000\n",
    "np.random.seed(10)\n",
    "# lambda = 8で50このsampleを作成している\n",
    "data_random = pd.DataFrame(np.random.poisson(8,50), columns=['y'])\n",
    "model = smf.poisson('y ~ 1', data=data_random)\n",
    "results = model.fit()\n",
    "results.summary()\n",
    "\n",
    "# log-likelihoodが最大対数尤度なので、-116.47が最大対数尤度\n",
    "# 切片は2.0069らしい。"
   ],
   "metadata": {
    "collapsed": false,
    "pycharm": {
     "name": "#%%\n"
    }
   }
  },
  {
   "cell_type": "code",
   "execution_count": null,
   "outputs": [],
   "source": [],
   "metadata": {
    "collapsed": false,
    "pycharm": {
     "name": "#%%\n"
    }
   }
  }
 ],
 "metadata": {
  "kernelspec": {
   "display_name": "Python 3",
   "language": "python",
   "name": "python3"
  },
  "language_info": {
   "codemirror_mode": {
    "name": "ipython",
    "version": 2
   },
   "file_extension": ".py",
   "mimetype": "text/x-python",
   "name": "python",
   "nbconvert_exporter": "python",
   "pygments_lexer": "ipython2",
   "version": "2.7.6"
  }
 },
 "nbformat": 4,
 "nbformat_minor": 0
}